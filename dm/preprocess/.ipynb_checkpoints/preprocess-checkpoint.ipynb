{
 "cells": [
  {
   "cell_type": "code",
   "execution_count": null,
   "metadata": {},
   "outputs": [],
   "source": [
    "import pandas as pd\n",
    "import numpy as np\n",
    "import random\n",
    "\n",
    "lists = [\"back_end\", \"mobile\", \"front_end\", \"ai\", \"game\", \"test\", \"support\", \"data\"]\n",
    "\n",
    "data1 = pd.DataFrame()\n",
    "for i in lists:\n",
    "    data1 = pd.concat([data1, pd.read_csv(\"/Users/emisonlu/Desktop/Data-Mining/dm/spider/shanghai/\" + i + \".csv\")], axis=0)\n",
    "data1 = data1.iloc[:,1:]\n",
    "data1.insert(data1.shape[1], \"city\", \"上海\")\n",
    "\n",
    "data2 = pd.DataFrame()\n",
    "for i in lists:\n",
    "    data2 = pd.concat([data2, pd.read_csv(\"/Users/emisonlu/Desktop/Data-Mining/dm/spider/beijing/\" + i + \".csv\")], axis=0)\n",
    "data2 = data2.iloc[:,1:]\n",
    "data2.insert(data2.shape[1], \"city\", \"北京\")\n",
    "\n",
    "data3 = pd.DataFrame()\n",
    "for i in lists:\n",
    "    data3 = pd.concat([data3, pd.read_csv(\"/Users/emisonlu/Desktop/Data-Mining/dm/spider/shenzhen/\" + i + \".csv\")], axis=0)\n",
    "data3= data3.iloc[:,1:]\n",
    "data3.insert(data3.shape[1], \"city\", \"深圳\")\n",
    "\n",
    "data4 = pd.DataFrame()\n",
    "for i in lists:\n",
    "    data4 = pd.concat([data4, pd.read_csv(\"/Users/emisonlu/Desktop/Data-Mining/dm/spider/guangzhou/\" + i + \".csv\")], axis=0)\n",
    "data4 = data4.iloc[:,1:]\n",
    "data4.insert(data4.shape[1], \"city\", \"广州\")\n",
    "\n",
    "data5 = pd.DataFrame()\n",
    "for i in lists:\n",
    "    data5 = pd.concat([data5, pd.read_csv(\"/Users/emisonlu/Desktop/Data-Mining/dm/spider/hangzhou/\" + i + \".csv\")], axis=0)\n",
    "data5 = data5.iloc[:,1:]\n",
    "data5.insert(data5.shape[1], \"city\", \"杭州\")\n",
    "\n",
    "data6 = pd.DataFrame()\n",
    "for i in lists:\n",
    "    data6 = pd.concat([data6, pd.read_csv(\"/Users/emisonlu/Desktop/Data-Mining/dm/spider/chengdu/\" + i + \".csv\")], axis=0)\n",
    "data6 = data6.iloc[:,1:]\n",
    "data6.insert(data6.shape[1], \"city\", \"成都\")\n",
    "\n",
    "data7 = pd.DataFrame()\n",
    "for i in lists:\n",
    "    data7 = pd.concat([data7, pd.read_csv(\"/Users/emisonlu/Desktop/Data-Mining/dm/spider/chongqing/\" + i + \".csv\")], axis=0)\n",
    "data7 = data7.iloc[:,1:]\n",
    "data7.insert(data7.shape[1], \"city\", \"重庆\")\n",
    "\n",
    "\n",
    "data = pd.concat([data1, data2, data3, data4, data5, data6, data7], axis=0)\n"
   ]
  },
  {
   "cell_type": "code",
   "execution_count": null,
   "metadata": {},
   "outputs": [],
   "source": [
    "data.drop_duplicates(subset=['job_name', 'company_name', 'work_area', 'salary'], keep='first')"
   ]
  },
  {
   "cell_type": "code",
   "execution_count": null,
   "metadata": {},
   "outputs": [],
   "source": [
    "def process_internship(d:str):\n",
    "    if \"实习\" in d:\n",
    "        return \"1\"\n",
    "    else:\n",
    "        return d\n",
    "\n",
    "data['job_name']=data.apply(lambda x:process_internship(x['job_name']), axis=1)\n",
    "data.index = range(len(data))\n",
    "data = data.drop(data[data['job_name'] == \"1\"].index)"
   ]
  },
  {
   "cell_type": "code",
   "execution_count": null,
   "metadata": {},
   "outputs": [],
   "source": [
    "def process_salary(d:str):\n",
    "    try:\n",
    "        if \"万/月\" in d:\n",
    "            d = d[:-3]\n",
    "            d1 = float(d.split('-')[0])\n",
    "            d2 = float(d.split('-')[1])\n",
    "            return round((d1 + d2) / 2.0, 2)\n",
    "        elif \"万/年\" in d:\n",
    "            d = d[:-3]\n",
    "            d1 = float(d.split('-')[0])\n",
    "            d2 = float(d.split('-')[1])\n",
    "            return round((d1 + d2) / 24.0, 2)\n",
    "        elif \"千/月\" in d:\n",
    "            d = d[:-3]\n",
    "            d1 = float(d.split('-')[0])\n",
    "            d2 = float(d.split('-')[1])\n",
    "            return round((d1 + d2) / 20.0, 2)\n",
    "        else:\n",
    "            return 0\n",
    "    except Exception:\n",
    "        return 0\n",
    "\n",
    "data['salary'] = data.apply(lambda x:process_salary(x['salary']), axis=1)\n",
    "data = data.drop(data[(data['salary'] < 0.2) | (data['salary'] > 10)].index)"
   ]
  },
  {
   "cell_type": "code",
   "execution_count": null,
   "metadata": {},
   "outputs": [],
   "source": [
    "def process_area(d:str):\n",
    "    if \"-\" in d:\n",
    "        return d[3:]\n",
    "    else:\n",
    "        return \"\"\n",
    "\n",
    "data['work_area']=data.apply(lambda x:process_area(x['work_area']), axis=1)"
   ]
  },
  {
   "cell_type": "code",
   "execution_count": null,
   "metadata": {},
   "outputs": [],
   "source": [
    "def process_work_year(d:str):\n",
    "    if \"3-4\" in d:\n",
    "        return random.randint(3, 4)\n",
    "    elif \"2年\" in d:\n",
    "        return 2\n",
    "    elif \"1年\" in d:\n",
    "        return 1\n",
    "    elif \"5-7\" in d:\n",
    "        return random.randint(5, 7)\n",
    "    elif \"8-9\" in d:\n",
    "        return random.randint(8, 9)\n",
    "    elif \"10\" in d:\n",
    "        return 10\n",
    "    elif \"招\" in d:\n",
    "        return random.randint(0, 10)\n",
    "    else:\n",
    "        return 0\n",
    "\n",
    "data['work_year']=data.apply(lambda x:process_work_year(x['work_year']), axis=1)"
   ]
  },
  {
   "cell_type": "code",
   "execution_count": null,
   "metadata": {},
   "outputs": [],
   "source": [
    "def process_education(d:int):\n",
    "    if d > 0:\n",
    "        return int(d)\n",
    "    else:\n",
    "        return random.randint(0, 8)\n",
    "\n",
    "data['education']=data.apply(lambda x:process_education(x['education']), axis=1)"
   ]
  },
  {
   "cell_type": "code",
   "execution_count": null,
   "metadata": {},
   "outputs": [],
   "source": [
    "def process_recruitment_scale(d:str):\n",
    "    if d == \"招若干人\":\n",
    "        return random.randint(1, 10)\n",
    "    elif \"招\" in d:\n",
    "        return int(d[1:-1])\n",
    "    else:\n",
    "        return random.randint(1, 10)\n",
    "\n",
    "data['recruitment_scale']=data.apply(lambda x:process_recruitment_scale(x['recruitment_scale']), axis=1)"
   ]
  },
  {
   "cell_type": "code",
   "execution_count": null,
   "metadata": {},
   "outputs": [],
   "source": [
    "dist = {}\n",
    "for index, row in data.iterrows():\n",
    "    lists = str(row['welfare']).split(\" \")\n",
    "    for i in lists:\n",
    "        if i in dist:\n",
    "            dist[i] = dist[i] + 1\n",
    "        else:\n",
    "            dist[i] = 1\n",
    "dist = sorted(dist.items(), key=lambda x: x[1], reverse=True)\n",
    "len(dist)"
   ]
  },
  {
   "cell_type": "code",
   "execution_count": null,
   "metadata": {
    "scrolled": true
   },
   "outputs": [],
   "source": [
    "def process_welfare(d:str):\n",
    "    res = \"s\"\n",
    "    lists = ['五险一金', '年终奖金', '绩效奖金', '定期体检', '员工旅游', '餐饮补贴', '专业培训', '弹性工作', '交通补贴', '通讯补贴', '周末双休', '补充医疗保险', '带薪年假', '节日福利', '股票期权']\n",
    "    try:\n",
    "        for i in lists:\n",
    "            if i in d:\n",
    "                res = res + \"1\"\n",
    "            else:\n",
    "                res = res + \"0\"\n",
    "        return res\n",
    "    except Exception:\n",
    "        return \"\"\n",
    "        \n",
    "\n",
    "data['welfare']=data.apply(lambda x:process_welfare(x['welfare']), axis=1)\n",
    "data.to_csv(\"data.csv\")\n",
    "data"
   ]
  },
  {
   "cell_type": "code",
   "execution_count": null,
   "metadata": {},
   "outputs": [],
   "source": []
  }
 ],
 "metadata": {
  "kernelspec": {
   "display_name": "Python 3",
   "language": "python",
   "name": "python3"
  },
  "language_info": {
   "codemirror_mode": {
    "name": "ipython",
    "version": 3
   },
   "file_extension": ".py",
   "mimetype": "text/x-python",
   "name": "python",
   "nbconvert_exporter": "python",
   "pygments_lexer": "ipython3",
   "version": "3.8.3"
  }
 },
 "nbformat": 4,
 "nbformat_minor": 4
}
